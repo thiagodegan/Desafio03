{
 "cells": [
  {
   "cell_type": "markdown",
   "metadata": {},
   "source": [
    "### IMPORTAÇÕES DAS BIBLIOTECAS UTILIZADAS"
   ]
  },
  {
   "cell_type": "code",
   "execution_count": 1,
   "metadata": {},
   "outputs": [],
   "source": [
    "import pandas as pd\n",
    "import pandas_profiling as pp\n",
    "import numpy as np\n",
    "from matplotlib import pyplot as plt\n",
    "import seaborn as sns\n",
    "sns.set()\n",
    "# ignorando os warnings\n",
    "import warnings\n",
    "warnings.filterwarnings('ignore')\n",
    "# plotando o matplotl\n"
   ]
  },
  {
   "cell_type": "markdown",
   "metadata": {},
   "source": [
    "## Carrega dataset para exploração"
   ]
  },
  {
   "cell_type": "code",
   "execution_count": 3,
   "metadata": {},
   "outputs": [
    {
     "data": {
      "text/html": [
       "<div>\n",
       "<style scoped>\n",
       "    .dataframe tbody tr th:only-of-type {\n",
       "        vertical-align: middle;\n",
       "    }\n",
       "\n",
       "    .dataframe tbody tr th {\n",
       "        vertical-align: top;\n",
       "    }\n",
       "\n",
       "    .dataframe thead th {\n",
       "        text-align: right;\n",
       "    }\n",
       "</style>\n",
       "<table border=\"1\" class=\"dataframe\">\n",
       "  <thead>\n",
       "    <tr style=\"text-align: right;\">\n",
       "      <th></th>\n",
       "      <th>bugged_date</th>\n",
       "      <th>receipt_date</th>\n",
       "      <th>employee_id</th>\n",
       "      <th>work_group</th>\n",
       "      <th>state_code</th>\n",
       "      <th>employee</th>\n",
       "      <th>receipt_social_security_number</th>\n",
       "      <th>receipt_description</th>\n",
       "      <th>establishment_name</th>\n",
       "      <th>receipt_value</th>\n",
       "    </tr>\n",
       "  </thead>\n",
       "  <tbody>\n",
       "    <tr>\n",
       "      <td>0</td>\n",
       "      <td>0</td>\n",
       "      <td>27/03/2013 00:00</td>\n",
       "      <td>1772</td>\n",
       "      <td>grupo 1</td>\n",
       "      <td>SP</td>\n",
       "      <td>func 1</td>\n",
       "      <td>3.530749e+12</td>\n",
       "      <td>Fuels and lubricants.</td>\n",
       "      <td>AUTO POSTO 314 NORTE LTDA</td>\n",
       "      <td>70</td>\n",
       "    </tr>\n",
       "    <tr>\n",
       "      <td>1</td>\n",
       "      <td>0</td>\n",
       "      <td>24/07/2013 00:00</td>\n",
       "      <td>1772</td>\n",
       "      <td>grupo 1</td>\n",
       "      <td>SP</td>\n",
       "      <td>func 1</td>\n",
       "      <td>8.202116e+12</td>\n",
       "      <td>Fuels and lubricants.</td>\n",
       "      <td>AUTO POSTO AEROPORTO  LTDA</td>\n",
       "      <td>104</td>\n",
       "    </tr>\n",
       "    <tr>\n",
       "      <td>2</td>\n",
       "      <td>0</td>\n",
       "      <td>17/02/2013 00:00</td>\n",
       "      <td>1772</td>\n",
       "      <td>grupo 1</td>\n",
       "      <td>SP</td>\n",
       "      <td>func 1</td>\n",
       "      <td>8.202116e+12</td>\n",
       "      <td>Fuels and lubricants.</td>\n",
       "      <td>AUTO POSTO AEROPORTO LTDA</td>\n",
       "      <td>100</td>\n",
       "    </tr>\n",
       "    <tr>\n",
       "      <td>3</td>\n",
       "      <td>0</td>\n",
       "      <td>15/03/2013 00:00</td>\n",
       "      <td>1772</td>\n",
       "      <td>grupo 1</td>\n",
       "      <td>SP</td>\n",
       "      <td>func 1</td>\n",
       "      <td>8.202116e+12</td>\n",
       "      <td>Fuels and lubricants.</td>\n",
       "      <td>AUTO POSTO AEROPORTO LTDA</td>\n",
       "      <td>100</td>\n",
       "    </tr>\n",
       "    <tr>\n",
       "      <td>4</td>\n",
       "      <td>0</td>\n",
       "      <td>27/01/2013 00:00</td>\n",
       "      <td>1772</td>\n",
       "      <td>grupo 1</td>\n",
       "      <td>SP</td>\n",
       "      <td>func 1</td>\n",
       "      <td>8.202116e+12</td>\n",
       "      <td>Fuels and lubricants.</td>\n",
       "      <td>AUTO POSTO AEROPORTO LTDA</td>\n",
       "      <td>77</td>\n",
       "    </tr>\n",
       "  </tbody>\n",
       "</table>\n",
       "</div>"
      ],
      "text/plain": [
       "   bugged_date      receipt_date  employee_id work_group state_code employee  \\\n",
       "0            0  27/03/2013 00:00         1772    grupo 1         SP   func 1   \n",
       "1            0  24/07/2013 00:00         1772    grupo 1         SP   func 1   \n",
       "2            0  17/02/2013 00:00         1772    grupo 1         SP   func 1   \n",
       "3            0  15/03/2013 00:00         1772    grupo 1         SP   func 1   \n",
       "4            0  27/01/2013 00:00         1772    grupo 1         SP   func 1   \n",
       "\n",
       "   receipt_social_security_number    receipt_description  \\\n",
       "0                    3.530749e+12  Fuels and lubricants.   \n",
       "1                    8.202116e+12  Fuels and lubricants.   \n",
       "2                    8.202116e+12  Fuels and lubricants.   \n",
       "3                    8.202116e+12  Fuels and lubricants.   \n",
       "4                    8.202116e+12  Fuels and lubricants.   \n",
       "\n",
       "           establishment_name  receipt_value  \n",
       "0   AUTO POSTO 314 NORTE LTDA             70  \n",
       "1  AUTO POSTO AEROPORTO  LTDA            104  \n",
       "2   AUTO POSTO AEROPORTO LTDA            100  \n",
       "3   AUTO POSTO AEROPORTO LTDA            100  \n",
       "4   AUTO POSTO AEROPORTO LTDA             77  "
      ]
     },
     "execution_count": 3,
     "metadata": {},
     "output_type": "execute_result"
    }
   ],
   "source": [
    "dados = pd.read_csv(r'..\\DataSets\\reembolso.csv', delimiter=';')\n",
    "dados.head()"
   ]
  },
  {
   "cell_type": "code",
   "execution_count": 4,
   "metadata": {},
   "outputs": [
    {
     "name": "stdout",
     "output_type": "stream",
     "text": [
      "<class 'pandas.core.frame.DataFrame'>\n",
      "RangeIndex: 1048575 entries, 0 to 1048574\n",
      "Data columns (total 10 columns):\n",
      "bugged_date                       1048575 non-null int64\n",
      "receipt_date                      1048575 non-null object\n",
      "employee_id                       1048575 non-null int64\n",
      "work_group                        1048575 non-null object\n",
      "state_code                        1048575 non-null object\n",
      "employee                          1048575 non-null object\n",
      "receipt_social_security_number    860939 non-null float64\n",
      "receipt_description               1048575 non-null object\n",
      "establishment_name                1048575 non-null object\n",
      "receipt_value                     1048575 non-null int64\n",
      "dtypes: float64(1), int64(3), object(6)\n",
      "memory usage: 80.0+ MB\n"
     ]
    }
   ],
   "source": [
    "dados.info()"
   ]
  },
  {
   "cell_type": "code",
   "execution_count": null,
   "metadata": {},
   "outputs": [],
   "source": [
    "pp.ProfileReport(dados)"
   ]
  },
  {
   "cell_type": "markdown",
   "metadata": {},
   "source": [
    "#### Verifica quais são as categorias distintas"
   ]
  },
  {
   "cell_type": "code",
   "execution_count": null,
   "metadata": {},
   "outputs": [],
   "source": [
    "dados.receipt_description.unique()"
   ]
  },
  {
   "cell_type": "markdown",
   "metadata": {},
   "source": [
    "# Análise por categorias a procura de outliers em cada categoria"
   ]
  },
  {
   "cell_type": "markdown",
   "metadata": {},
   "source": [
    "### Separa dataset por categorias e coloca tudo em um dicionario"
   ]
  },
  {
   "cell_type": "code",
   "execution_count": null,
   "metadata": {},
   "outputs": [],
   "source": [
    "dtCombustivel = dados[(dados.receipt_description == 'Fuels and lubricants.')]\n",
    "dtPalarmentar = dados[(dados.receipt_description == 'Dissemination of the Parliamentary Activity.')]\n",
    "dtPassagemAviao = dados[(dados.receipt_description == 'Airline tickets')]\n",
    "dtTelefonia = dados[(dados.receipt_description == 'Telephony')]\n",
    "dtAluguelBarco = dados[(dados.receipt_description == 'Renting of motor vehicles or chartering of boats')]\n",
    "dtEscritorio = dados[(dados.receipt_description == 'Maintenance of Office')]\n",
    "dtPesquisa = dados[(dados.receipt_description == 'Consultancies, Researches and Technical Works.')]\n",
    "dtAlimentacao = dados[(dados.receipt_description == 'Food and Meals')]\n",
    "dtHotel = dados[(dados.receipt_description == 'Hosting, except for the Parliamentary in the Federal District.')]\n",
    "dtAluguelCarro = dados[(dados.receipt_description == 'Rental or Chartering of Motor Vehicles')]\n",
    "dtSeguranca = dados[(dados.receipt_description == 'Security Service Provided By Specialized Company.')]\n",
    "dtTransporte = dados[(dados.receipt_description == 'Taxi Service, Toll & Parking')]\n",
    "dtPassagemBarco = dados[(dados.receipt_description == 'Land, Sea or River Tickets')]\n",
    "dtPublicacao = dados[(dados.receipt_description == 'Publication Subscription')]\n",
    "dtAluguelAviao = dados[(dados.receipt_description == 'Renting or Chartering of Aircraft')]\n",
    "dtAluguelBarco2 = dados[(dados.receipt_description == 'Leasing or Chartering of Boats')]"
   ]
  },
  {
   "cell_type": "markdown",
   "metadata": {},
   "source": [
    "### Faz novamente o pandas profile para cada um dos datasets separados"
   ]
  },
  {
   "cell_type": "code",
   "execution_count": null,
   "metadata": {},
   "outputs": [],
   "source": [
    "pp.ProfileReport(dtCombustivel)"
   ]
  },
  {
   "cell_type": "markdown",
   "metadata": {},
   "source": [
    "### Resultado do DataSet de Combustivel\n",
    "\n",
    "Existe registros com 0, é estranho, mas representa menos de 0.1%\n",
    "Tambem temos valor menor que 5, de reembolso, será que é normal??\n",
    "\n",
    "O comum está entre 30 e 120, acredito que seja normal\n",
    "\n"
   ]
  },
  {
   "cell_type": "code",
   "execution_count": null,
   "metadata": {},
   "outputs": [],
   "source": [
    "pp.ProfileReport(dtPalarmentar)"
   ]
  },
  {
   "cell_type": "markdown",
   "metadata": {},
   "source": []
  },
  {
   "cell_type": "code",
   "execution_count": null,
   "metadata": {},
   "outputs": [],
   "source": [
    "pp.ProfileReport(dtPassagemAviao)"
   ]
  },
  {
   "cell_type": "code",
   "execution_count": null,
   "metadata": {},
   "outputs": [],
   "source": [
    "pp.ProfileReport(dtTelefonia)"
   ]
  },
  {
   "cell_type": "code",
   "execution_count": null,
   "metadata": {},
   "outputs": [],
   "source": [
    "pp.ProfileReport(dtAluguelBarco)"
   ]
  },
  {
   "cell_type": "code",
   "execution_count": null,
   "metadata": {},
   "outputs": [],
   "source": [
    "pp.ProfileReport(dtAluguelBarco2)"
   ]
  },
  {
   "cell_type": "code",
   "execution_count": null,
   "metadata": {},
   "outputs": [],
   "source": [
    "pp.ProfileReport(dtEscritorio)"
   ]
  },
  {
   "cell_type": "code",
   "execution_count": null,
   "metadata": {},
   "outputs": [],
   "source": [
    "pp.ProfileReport(dtPesquisa)"
   ]
  },
  {
   "cell_type": "code",
   "execution_count": null,
   "metadata": {},
   "outputs": [],
   "source": [
    "pp.ProfileReport(dtAlimentacao)"
   ]
  },
  {
   "cell_type": "code",
   "execution_count": null,
   "metadata": {},
   "outputs": [],
   "source": [
    "pp.ProfileReport(dtHotel)"
   ]
  },
  {
   "cell_type": "code",
   "execution_count": null,
   "metadata": {},
   "outputs": [],
   "source": [
    "pp.ProfileReport(dtAluguelCarro)"
   ]
  },
  {
   "cell_type": "code",
   "execution_count": null,
   "metadata": {},
   "outputs": [],
   "source": [
    "pp.ProfileReport(dtSeguranca)"
   ]
  },
  {
   "cell_type": "code",
   "execution_count": null,
   "metadata": {},
   "outputs": [],
   "source": [
    "pp.ProfileReport(dtTransporte)"
   ]
  },
  {
   "cell_type": "code",
   "execution_count": null,
   "metadata": {},
   "outputs": [],
   "source": [
    "pp.ProfileReport(dtPassagemBarco)"
   ]
  },
  {
   "cell_type": "code",
   "execution_count": null,
   "metadata": {},
   "outputs": [],
   "source": [
    "pp.ProfileReport(dtPublicacao)"
   ]
  },
  {
   "cell_type": "code",
   "execution_count": null,
   "metadata": {},
   "outputs": [],
   "source": [
    "pp.ProfileReport(dtAluguelAviao)"
   ]
  },
  {
   "cell_type": "code",
   "execution_count": null,
   "metadata": {},
   "outputs": [],
   "source": []
  },
  {
   "cell_type": "code",
   "execution_count": null,
   "metadata": {},
   "outputs": [],
   "source": []
  },
  {
   "cell_type": "code",
   "execution_count": null,
   "metadata": {},
   "outputs": [],
   "source": []
  },
  {
   "cell_type": "code",
   "execution_count": null,
   "metadata": {},
   "outputs": [],
   "source": []
  },
  {
   "cell_type": "code",
   "execution_count": null,
   "metadata": {},
   "outputs": [],
   "source": []
  }
 ],
 "metadata": {
  "kernelspec": {
   "display_name": "Python 3",
   "language": "python",
   "name": "python3"
  },
  "language_info": {
   "codemirror_mode": {
    "name": "ipython",
    "version": 3
   },
   "file_extension": ".py",
   "mimetype": "text/x-python",
   "name": "python",
   "nbconvert_exporter": "python",
   "pygments_lexer": "ipython3",
   "version": "3.7.4"
  }
 },
 "nbformat": 4,
 "nbformat_minor": 4
}
